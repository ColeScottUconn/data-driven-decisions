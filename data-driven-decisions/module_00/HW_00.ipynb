{
 "cells": [
  {
   "cell_type": "code",
   "execution_count": 1,
   "id": "6840e790",
   "metadata": {},
   "outputs": [],
   "source": [
    "import numpy as np\n",
    "import matplotlib.pyplot as plt\n",
    "plt.style.use('fivethirtyeight')\n",
    "import pandas as pd"
   ]
  },
  {
   "cell_type": "markdown",
   "id": "2148a32a",
   "metadata": {},
   "source": [
    "# HW_00 - Generative AI writing analysis\n",
    "\n",
    "In this assignment, you will generate instructions on brushing your teeth. You can use [ChatGPT](https://chatgpt.com/)\n",
    "\n",
    "Some metrics to add to the generated instructions:\n",
    "\n",
    "- number of strokes per minute\n",
    "- total brushing time\n",
    "- time spent per tooth \n",
    "- number of teeth or total area to brush on teeth\n",
    "- deflection of brush bristles for proper cleaning\n",
    "- what else can you think of?"
   ]
  },
  {
   "cell_type": "markdown",
   "id": "c3825564",
   "metadata": {},
   "source": [
    "## Prompt Input and Output\n",
    "\n",
    "ME:\n",
    "I need you to act as a dentist teaching children how to brush their teeth. You will give instructions on how to brush teeth in roughly 5 steps. Make sure the teeth brushing is for 2 minutes. Do not tell a story or try to engage the children other than just using the instructions.\n",
    "\n",
    "Chat GPT:\n",
    "Sure, let's get those pearly whites sparkling! Here's a step-by-step guide on how to brush your teeth properly:\n",
    "\n",
    "Get ready: Wet your toothbrush and put a pea-sized amount of toothpaste on it.\n",
    "\n",
    "Start brushing: Place the toothbrush at a 45-degree angle to your gums. Use gentle circular motions to brush the outer surfaces of your teeth. Make sure to reach the back teeth too.\n",
    "\n",
    "Don't forget the insides: Now, angle the toothbrush vertically and brush the inner surfaces of your teeth. Again, use circular motions and reach all the way to the back.\n",
    "\n",
    "Clean your chewing surfaces: For your chewing surfaces, use a back-and-forth motion to clean them thoroughly. These are the surfaces you use for chewing food, so it's essential to clean them well.\n",
    "\n",
    "Finish strong: Brush your tongue gently to remove bacteria and freshen your breath. Then rinse your mouth with water.\n",
    "\n",
    "Remember to brush for a full 2 minutes to ensure all your teeth get cleaned properly. And don't forget to brush twice a day, once in the morning and once before bed, to keep your smile healthy and bright!"
   ]
  },
  {
   "cell_type": "markdown",
   "id": "64f3d3ea",
   "metadata": {},
   "source": [
    "## Revised document\n",
    "\n",
    "Wet the toothbrush with water and apply a small pea sized amount of toothpaste to the center of the brushes bristles.\n",
    "\n",
    "Starting with the front center teeth (top and bottom) and moving to the left and right side, place the toothbrush at a 45 degree angle to your gums and begin brushing in a circular motion. Make sure to include the gums and brush gently so the bristles do not hurt you or fan out. Brush for 10 seconds each.\n",
    "\n",
    "Move to the backside of the teeth, starting with the back of your front teeth and moving to both the left and right side, insert the toothbrush vertically and brush in a circular motion. Make sure to include the gums and brush gently so the bristles do not hurt you or fan out. Brush for 10 seconds each.\n",
    "\n",
    "Starting in the back of your mouth use a back and forth motion to brush the tops of your teeth. Move along your bottom teeth and once complete repeat for the top teeth. Brush for 5 seconds each.\n",
    "\n",
    "Brush your tounge using a verticle motion for 15 seconds. Be sure to get all the way to the back of your tongue.\n",
    "\n",
    "Rinse your mouth out with water and swirl around your mouth to remove the toothpaste. Rinse the toothbrush under the water."
   ]
  },
  {
   "cell_type": "markdown",
   "id": "ad473b69",
   "metadata": {},
   "source": [
    "_run the cell below to get your `tf_idf` functions ready to run_"
   ]
  },
  {
   "cell_type": "code",
   "execution_count": 2,
   "id": "07dd45b3",
   "metadata": {},
   "outputs": [
    {
     "name": "stdout",
     "output_type": "stream",
     "text": [
      "Requirement already satisfied: tf-idf-cosimm==0.0.2 in /opt/conda/lib/python3.9/site-packages (0.0.2)\n",
      "Requirement already satisfied: nltk in /opt/conda/lib/python3.9/site-packages (from tf-idf-cosimm==0.0.2) (3.8.1)\n",
      "Requirement already satisfied: scikit-learn in /opt/conda/lib/python3.9/site-packages (from tf-idf-cosimm==0.0.2) (0.24.2)\n",
      "Requirement already satisfied: pandas in /opt/conda/lib/python3.9/site-packages (from tf-idf-cosimm==0.0.2) (1.3.2)\n",
      "Requirement already satisfied: numpy in /opt/conda/lib/python3.9/site-packages (from tf-idf-cosimm==0.0.2) (1.20.3)\n",
      "Requirement already satisfied: regex>=2021.8.3 in /opt/conda/lib/python3.9/site-packages (from nltk->tf-idf-cosimm==0.0.2) (2024.5.15)\n",
      "Requirement already satisfied: joblib in /opt/conda/lib/python3.9/site-packages (from nltk->tf-idf-cosimm==0.0.2) (1.0.1)\n",
      "Requirement already satisfied: click in /opt/conda/lib/python3.9/site-packages (from nltk->tf-idf-cosimm==0.0.2) (8.0.1)\n",
      "Requirement already satisfied: tqdm in /opt/conda/lib/python3.9/site-packages (from nltk->tf-idf-cosimm==0.0.2) (4.62.2)\n",
      "Requirement already satisfied: python-dateutil>=2.7.3 in /opt/conda/lib/python3.9/site-packages (from pandas->tf-idf-cosimm==0.0.2) (2.8.2)\n",
      "Requirement already satisfied: pytz>=2017.3 in /opt/conda/lib/python3.9/site-packages (from pandas->tf-idf-cosimm==0.0.2) (2021.1)\n",
      "Requirement already satisfied: six>=1.5 in /opt/conda/lib/python3.9/site-packages (from python-dateutil>=2.7.3->pandas->tf-idf-cosimm==0.0.2) (1.16.0)\n",
      "Requirement already satisfied: threadpoolctl>=2.0.0 in /opt/conda/lib/python3.9/site-packages (from scikit-learn->tf-idf-cosimm==0.0.2) (2.2.0)\n",
      "Requirement already satisfied: scipy>=0.19.1 in /opt/conda/lib/python3.9/site-packages (from scikit-learn->tf-idf-cosimm==0.0.2) (1.7.1)\n"
     ]
    }
   ],
   "source": [
    "! pip install tf-idf-cosimm==0.0.2"
   ]
  },
  {
   "cell_type": "code",
   "execution_count": 3,
   "id": "a87cd6c7-5db8-43fc-a63b-c3d9fcb4a531",
   "metadata": {},
   "outputs": [
    {
     "name": "stderr",
     "output_type": "stream",
     "text": [
      "[nltk_data] Downloading package punkt to /home/jovyan/nltk_data...\n",
      "[nltk_data]   Package punkt is already up-to-date!\n"
     ]
    }
   ],
   "source": [
    "import tf_idf.core as tf_idf"
   ]
  },
  {
   "cell_type": "code",
   "execution_count": 4,
   "id": "a12beb9f-aee7-4e7a-962a-0c5bf22f32b3",
   "metadata": {},
   "outputs": [],
   "source": [
    "AI = '''Get ready: Wet your toothbrush and put a pea-sized amount of toothpaste on it.\n",
    "\n",
    "Start brushing: Place the toothbrush at a 45-degree angle to your gums. Use gentle circular motions to brush the outer surfaces of your teeth. Make sure to reach the back teeth too.\n",
    "\n",
    "Don't forget the insides: Now, angle the toothbrush vertically and brush the inner surfaces of your teeth. Again, use circular motions and reach all the way to the back.\n",
    "\n",
    "Clean your chewing surfaces: For your chewing surfaces, use a back-and-forth motion to clean them thoroughly. These are the surfaces you use for chewing food, so it's essential to clean them well.\n",
    "\n",
    "Finish strong: Brush your tongue gently to remove bacteria and freshen your breath. Then rinse your mouth with water.'''\n",
    "compare = tf_idf.preprocess_text(AI)"
   ]
  },
  {
   "cell_type": "code",
   "execution_count": 5,
   "id": "bf6f7dc1-3da0-4251-b5a3-a12121939d3b",
   "metadata": {},
   "outputs": [
    {
     "data": {
      "text/html": [
       "<div>\n",
       "<style scoped>\n",
       "    .dataframe tbody tr th:only-of-type {\n",
       "        vertical-align: middle;\n",
       "    }\n",
       "\n",
       "    .dataframe tbody tr th {\n",
       "        vertical-align: top;\n",
       "    }\n",
       "\n",
       "    .dataframe thead th {\n",
       "        text-align: right;\n",
       "    }\n",
       "</style>\n",
       "<table border=\"1\" class=\"dataframe\">\n",
       "  <thead>\n",
       "    <tr style=\"text-align: right;\">\n",
       "      <th></th>\n",
       "      <th>DOCUMENT</th>\n",
       "      <th>LOWERCASE</th>\n",
       "      <th>CLEANING</th>\n",
       "      <th>TOKENIZATION</th>\n",
       "      <th>STOP-WORDS</th>\n",
       "      <th>STEMMING</th>\n",
       "    </tr>\n",
       "  </thead>\n",
       "  <tbody>\n",
       "    <tr>\n",
       "      <th>0</th>\n",
       "      <td>Get ready: Wet your toothbrush and put a pea-sized amount of toothpaste on it.\\n\\nStart brushing: Place the toothbrush at a 45-degree angle to your gums. Use gentle circular motions to brush the outer surfaces of your teeth. Make sure to reach the back teeth too.\\n\\nDon't forget the insides: Now, angle the toothbrush vertically and brush the inner surfaces of your teeth. Again, use circular motions and reach all the way to the back.\\n\\nClean your chewing surfaces: For your chewing surfaces, use a back-and-forth motion to clean them thoroughly. These are the surfaces you use for chewing food, so it's essential to clean them well.\\n\\nFinish strong: Brush your tongue gently to remove bacteria and freshen your breath. Then rinse your mouth with water.</td>\n",
       "      <td>get ready: wet your toothbrush and put a pea-sized amount of toothpaste on it.\\n\\nstart brushing: place the toothbrush at a 45-degree angle to your gums. use gentle circular motions to brush the outer surfaces of your teeth. make sure to reach the back teeth too.\\n\\ndon't forget the insides: now, angle the toothbrush vertically and brush the inner surfaces of your teeth. again, use circular motions and reach all the way to the back.\\n\\nclean your chewing surfaces: for your chewing surfaces, use a back-and-forth motion to clean them thoroughly. these are the surfaces you use for chewing food, so it's essential to clean them well.\\n\\nfinish strong: brush your tongue gently to remove bacteria and freshen your breath. then rinse your mouth with water.</td>\n",
       "      <td>get ready wet your toothbrush and put a peasized amount of toothpaste on it\\n\\nstart brushing place the toothbrush at a 45degree angle to your gums use gentle circular motions to brush the outer surfaces of your teeth make sure to reach the back teeth too\\n\\ndont forget the insides now angle the toothbrush vertically and brush the inner surfaces of your teeth again use circular motions and reach all the way to the back\\n\\nclean your chewing surfaces for your chewing surfaces use a backandforth motion to clean them thoroughly these are the surfaces you use for chewing food so its essential to clean them well\\n\\nfinish strong brush your tongue gently to remove bacteria and freshen your breath then rinse your mouth with water</td>\n",
       "      <td>[get, ready, wet, your, toothbrush, and, put, a, peasized, amount, of, toothpaste, on, it, start, brushing, place, the, toothbrush, at, a, 45degree, angle, to, your, gums, use, gentle, circular, motions, to, brush, the, outer, surfaces, of, your, teeth, make, sure, to, reach, the, back, teeth, too, dont, forget, the, insides, now, angle, the, toothbrush, vertically, and, brush, the, inner, surfaces, of, your, teeth, again, use, circular, motions, and, reach, all, the, way, to, the, back, clean, your, chewing, surfaces, for, your, chewing, surfaces, use, a, backandforth, motion, to, clean, them, thoroughly, these, are, the, surfaces, you, use, for, chewing, food, ...]</td>\n",
       "      <td>[ready, wet, toothbrush, put, peasized, amount, toothpaste, start, brushing, place, toothbrush, 45degree, angle, gums, gentle, circular, motions, brush, outer, surfaces, teeth, make, reach, back, teeth, forget, insides, angle, toothbrush, vertically, brush, surfaces, teeth, circular, motions, reach, back, clean, chewing, surfaces, chewing, surfaces, backandforth, motion, clean, surfaces, chewing, food, essential, clean, finish, strong, brush, tongue, gently, remove, bacteria, freshen, breath, rinse, mouth, water]</td>\n",
       "      <td>[readi, wet, toothbrush, put, peasiz, amount, toothpast, start, brush, place, toothbrush, 45degre, angl, gum, gentl, circular, motion, brush, outer, surfac, teeth, make, reach, back, teeth, forget, insid, angl, toothbrush, vertic, brush, surfac, teeth, circular, motion, reach, back, clean, chew, surfac, chew, surfac, backandforth, motion, clean, surfac, chew, food, essenti, clean, finish, strong, brush, tongu, gentli, remov, bacteria, freshen, breath, rins, mouth, water]</td>\n",
       "    </tr>\n",
       "    <tr>\n",
       "      <th>1</th>\n",
       "      <td>Wet the toothbrush with water and apply a small pea sized amount of toothpaste to the center of the brushes bristles.\\n\\nStarting with the front center teeth (top and bottom) and moving to the left and right side, place the toothbrush at a 45 degree angle to your gums and begin brushing in a circular motion. Make sure to include the gums and brush gently so the bristles do not hurt you or fan out. Brush for 10 seconds each.\\n\\nMove to the backside of the teeth, starting with the back of your front teeth and moving to both the left and right side, insert the toothbrush vertically and brush in a circular motion. Make sure to include the gums and brush gently so the bristles do not hurt you or fan out. Brush for 10 seconds each.\\n\\nStarting in the back of your mouth use a back and forth motion to brush the tops of your teeth. Move along your bottom teeth and once complete repeat for the top teeth. Brush for 5 seconds each.\\n\\nBrush your tounge using a verticle motion for 15 seconds. Be sure to get all the way to the back of your tongue.\\n\\nRinse your mouth out with water and swirl around your mouth to remove the toothpaste. Rinse the toothbrush under the water.</td>\n",
       "      <td>wet the toothbrush with water and apply a small pea sized amount of toothpaste to the center of the brushes bristles.\\n\\nstarting with the front center teeth (top and bottom) and moving to the left and right side, place the toothbrush at a 45 degree angle to your gums and begin brushing in a circular motion. make sure to include the gums and brush gently so the bristles do not hurt you or fan out. brush for 10 seconds each.\\n\\nmove to the backside of the teeth, starting with the back of your front teeth and moving to both the left and right side, insert the toothbrush vertically and brush in a circular motion. make sure to include the gums and brush gently so the bristles do not hurt you or fan out. brush for 10 seconds each.\\n\\nstarting in the back of your mouth use a back and forth motion to brush the tops of your teeth. move along your bottom teeth and once complete repeat for the top teeth. brush for 5 seconds each.\\n\\nbrush your tounge using a verticle motion for 15 seconds. be sure to get all the way to the back of your tongue.\\n\\nrinse your mouth out with water and swirl around your mouth to remove the toothpaste. rinse the toothbrush under the water.</td>\n",
       "      <td>wet the toothbrush with water and apply a small pea sized amount of toothpaste to the center of the brushes bristles\\n\\nstarting with the front center teeth top and bottom and moving to the left and right side place the toothbrush at a 45 degree angle to your gums and begin brushing in a circular motion make sure to include the gums and brush gently so the bristles do not hurt you or fan out brush for 10 seconds each\\n\\nmove to the backside of the teeth starting with the back of your front teeth and moving to both the left and right side insert the toothbrush vertically and brush in a circular motion make sure to include the gums and brush gently so the bristles do not hurt you or fan out brush for 10 seconds each\\n\\nstarting in the back of your mouth use a back and forth motion to brush the tops of your teeth move along your bottom teeth and once complete repeat for the top teeth brush for 5 seconds each\\n\\nbrush your tounge using a verticle motion for 15 seconds be sure to get all the way to the back of your tongue\\n\\nrinse your mouth out with water and swirl around your mouth to remove the toothpaste rinse the toothbrush under the water</td>\n",
       "      <td>[wet, the, toothbrush, with, water, and, apply, a, small, pea, sized, amount, of, toothpaste, to, the, center, of, the, brushes, bristles, starting, with, the, front, center, teeth, top, and, bottom, and, moving, to, the, left, and, right, side, place, the, toothbrush, at, a, 45, degree, angle, to, your, gums, and, begin, brushing, in, a, circular, motion, make, sure, to, include, the, gums, and, brush, gently, so, the, bristles, do, not, hurt, you, or, fan, out, brush, for, 10, seconds, each, move, to, the, backside, of, the, teeth, starting, with, the, back, of, your, front, teeth, and, moving, to, both, the, ...]</td>\n",
       "      <td>[wet, toothbrush, water, apply, small, pea, sized, amount, toothpaste, center, brushes, bristles, starting, front, center, teeth, top, bottom, moving, left, side, place, toothbrush, 45, degree, angle, gums, begin, brushing, circular, motion, make, include, gums, brush, gently, bristles, hurt, brush, 10, seconds, move, backside, teeth, starting, back, front, teeth, moving, left, side, insert, toothbrush, vertically, brush, circular, motion, make, include, gums, brush, gently, bristles, hurt, brush, 10, seconds, starting, back, mouth, back, motion, brush, tops, teeth, move, bottom, teeth, complete, repeat, top, teeth, brush, 5, seconds, brush, tounge, verticle, motion, 15, seconds, back, tongue, rinse, mouth, water, swirl, mouth, remove, toothpaste, ...]</td>\n",
       "      <td>[wet, toothbrush, water, appli, small, pea, size, amount, toothpast, center, brush, bristl, start, front, center, teeth, top, bottom, move, left, side, place, toothbrush, 45, degre, angl, gum, begin, brush, circular, motion, make, includ, gum, brush, gentli, bristl, hurt, brush, 10, second, move, backsid, teeth, start, back, front, teeth, move, left, side, insert, toothbrush, vertic, brush, circular, motion, make, includ, gum, brush, gentli, bristl, hurt, brush, 10, second, start, back, mouth, back, motion, brush, top, teeth, move, bottom, teeth, complet, repeat, top, teeth, brush, 5, second, brush, toung, verticl, motion, 15, second, back, tongu, rins, mouth, water, swirl, mouth, remov, toothpast, ...]</td>\n",
       "    </tr>\n",
       "  </tbody>\n",
       "</table>\n",
       "</div>"
      ],
      "text/plain": [
       "                                                                                                                                                                                                                                                                                                                                                                                                                                                                                                                                                                                                                                                                                                                                                                                                                                                                                                                                                                                                                                                                                                                                                                                                                    DOCUMENT  \\\n",
       "0                                                                                                                                                                                                                                                                                                                                                                                                                                      Get ready: Wet your toothbrush and put a pea-sized amount of toothpaste on it.\\n\\nStart brushing: Place the toothbrush at a 45-degree angle to your gums. Use gentle circular motions to brush the outer surfaces of your teeth. Make sure to reach the back teeth too.\\n\\nDon't forget the insides: Now, angle the toothbrush vertically and brush the inner surfaces of your teeth. Again, use circular motions and reach all the way to the back.\\n\\nClean your chewing surfaces: For your chewing surfaces, use a back-and-forth motion to clean them thoroughly. These are the surfaces you use for chewing food, so it's essential to clean them well.\\n\\nFinish strong: Brush your tongue gently to remove bacteria and freshen your breath. Then rinse your mouth with water.   \n",
       "1  Wet the toothbrush with water and apply a small pea sized amount of toothpaste to the center of the brushes bristles.\\n\\nStarting with the front center teeth (top and bottom) and moving to the left and right side, place the toothbrush at a 45 degree angle to your gums and begin brushing in a circular motion. Make sure to include the gums and brush gently so the bristles do not hurt you or fan out. Brush for 10 seconds each.\\n\\nMove to the backside of the teeth, starting with the back of your front teeth and moving to both the left and right side, insert the toothbrush vertically and brush in a circular motion. Make sure to include the gums and brush gently so the bristles do not hurt you or fan out. Brush for 10 seconds each.\\n\\nStarting in the back of your mouth use a back and forth motion to brush the tops of your teeth. Move along your bottom teeth and once complete repeat for the top teeth. Brush for 5 seconds each.\\n\\nBrush your tounge using a verticle motion for 15 seconds. Be sure to get all the way to the back of your tongue.\\n\\nRinse your mouth out with water and swirl around your mouth to remove the toothpaste. Rinse the toothbrush under the water.    \n",
       "\n",
       "                                                                                                                                                                                                                                                                                                                                                                                                                                                                                                                                                                                                                                                                                                                                                                                                                                                                                                                                                                                                                                                                                                                                                                                                                   LOWERCASE  \\\n",
       "0                                                                                                                                                                                                                                                                                                                                                                                                                                      get ready: wet your toothbrush and put a pea-sized amount of toothpaste on it.\\n\\nstart brushing: place the toothbrush at a 45-degree angle to your gums. use gentle circular motions to brush the outer surfaces of your teeth. make sure to reach the back teeth too.\\n\\ndon't forget the insides: now, angle the toothbrush vertically and brush the inner surfaces of your teeth. again, use circular motions and reach all the way to the back.\\n\\nclean your chewing surfaces: for your chewing surfaces, use a back-and-forth motion to clean them thoroughly. these are the surfaces you use for chewing food, so it's essential to clean them well.\\n\\nfinish strong: brush your tongue gently to remove bacteria and freshen your breath. then rinse your mouth with water.   \n",
       "1  wet the toothbrush with water and apply a small pea sized amount of toothpaste to the center of the brushes bristles.\\n\\nstarting with the front center teeth (top and bottom) and moving to the left and right side, place the toothbrush at a 45 degree angle to your gums and begin brushing in a circular motion. make sure to include the gums and brush gently so the bristles do not hurt you or fan out. brush for 10 seconds each.\\n\\nmove to the backside of the teeth, starting with the back of your front teeth and moving to both the left and right side, insert the toothbrush vertically and brush in a circular motion. make sure to include the gums and brush gently so the bristles do not hurt you or fan out. brush for 10 seconds each.\\n\\nstarting in the back of your mouth use a back and forth motion to brush the tops of your teeth. move along your bottom teeth and once complete repeat for the top teeth. brush for 5 seconds each.\\n\\nbrush your tounge using a verticle motion for 15 seconds. be sure to get all the way to the back of your tongue.\\n\\nrinse your mouth out with water and swirl around your mouth to remove the toothpaste. rinse the toothbrush under the water.    \n",
       "\n",
       "                                                                                                                                                                                                                                                                                                                                                                                                                                                                                                                                                                                                                                                                                                                                                                                                                                                                                                                                                                                                                                                                                                                                                                                                CLEANING  \\\n",
       "0                                                                                                                                                                                                                                                                                                                                                                                                                                           get ready wet your toothbrush and put a peasized amount of toothpaste on it\\n\\nstart brushing place the toothbrush at a 45degree angle to your gums use gentle circular motions to brush the outer surfaces of your teeth make sure to reach the back teeth too\\n\\ndont forget the insides now angle the toothbrush vertically and brush the inner surfaces of your teeth again use circular motions and reach all the way to the back\\n\\nclean your chewing surfaces for your chewing surfaces use a backandforth motion to clean them thoroughly these are the surfaces you use for chewing food so its essential to clean them well\\n\\nfinish strong brush your tongue gently to remove bacteria and freshen your breath then rinse your mouth with water   \n",
       "1  wet the toothbrush with water and apply a small pea sized amount of toothpaste to the center of the brushes bristles\\n\\nstarting with the front center teeth top and bottom and moving to the left and right side place the toothbrush at a 45 degree angle to your gums and begin brushing in a circular motion make sure to include the gums and brush gently so the bristles do not hurt you or fan out brush for 10 seconds each\\n\\nmove to the backside of the teeth starting with the back of your front teeth and moving to both the left and right side insert the toothbrush vertically and brush in a circular motion make sure to include the gums and brush gently so the bristles do not hurt you or fan out brush for 10 seconds each\\n\\nstarting in the back of your mouth use a back and forth motion to brush the tops of your teeth move along your bottom teeth and once complete repeat for the top teeth brush for 5 seconds each\\n\\nbrush your tounge using a verticle motion for 15 seconds be sure to get all the way to the back of your tongue\\n\\nrinse your mouth out with water and swirl around your mouth to remove the toothpaste rinse the toothbrush under the water   \n",
       "\n",
       "                                                                                                                                                                                                                                                                                                                                                                                                                                                                                                                                                                                                                                                                                          TOKENIZATION  \\\n",
       "0  [get, ready, wet, your, toothbrush, and, put, a, peasized, amount, of, toothpaste, on, it, start, brushing, place, the, toothbrush, at, a, 45degree, angle, to, your, gums, use, gentle, circular, motions, to, brush, the, outer, surfaces, of, your, teeth, make, sure, to, reach, the, back, teeth, too, dont, forget, the, insides, now, angle, the, toothbrush, vertically, and, brush, the, inner, surfaces, of, your, teeth, again, use, circular, motions, and, reach, all, the, way, to, the, back, clean, your, chewing, surfaces, for, your, chewing, surfaces, use, a, backandforth, motion, to, clean, them, thoroughly, these, are, the, surfaces, you, use, for, chewing, food, ...]   \n",
       "1                                                      [wet, the, toothbrush, with, water, and, apply, a, small, pea, sized, amount, of, toothpaste, to, the, center, of, the, brushes, bristles, starting, with, the, front, center, teeth, top, and, bottom, and, moving, to, the, left, and, right, side, place, the, toothbrush, at, a, 45, degree, angle, to, your, gums, and, begin, brushing, in, a, circular, motion, make, sure, to, include, the, gums, and, brush, gently, so, the, bristles, do, not, hurt, you, or, fan, out, brush, for, 10, seconds, each, move, to, the, backside, of, the, teeth, starting, with, the, back, of, your, front, teeth, and, moving, to, both, the, ...]   \n",
       "\n",
       "                                                                                                                                                                                                                                                                                                                                                                                                                                                                                                                                                                                                                                                                                                                                                                                   STOP-WORDS  \\\n",
       "0                                                                                                                                                                                                                                                      [ready, wet, toothbrush, put, peasized, amount, toothpaste, start, brushing, place, toothbrush, 45degree, angle, gums, gentle, circular, motions, brush, outer, surfaces, teeth, make, reach, back, teeth, forget, insides, angle, toothbrush, vertically, brush, surfaces, teeth, circular, motions, reach, back, clean, chewing, surfaces, chewing, surfaces, backandforth, motion, clean, surfaces, chewing, food, essential, clean, finish, strong, brush, tongue, gently, remove, bacteria, freshen, breath, rinse, mouth, water]   \n",
       "1  [wet, toothbrush, water, apply, small, pea, sized, amount, toothpaste, center, brushes, bristles, starting, front, center, teeth, top, bottom, moving, left, side, place, toothbrush, 45, degree, angle, gums, begin, brushing, circular, motion, make, include, gums, brush, gently, bristles, hurt, brush, 10, seconds, move, backside, teeth, starting, back, front, teeth, moving, left, side, insert, toothbrush, vertically, brush, circular, motion, make, include, gums, brush, gently, bristles, hurt, brush, 10, seconds, starting, back, mouth, back, motion, brush, tops, teeth, move, bottom, teeth, complete, repeat, top, teeth, brush, 5, seconds, brush, tounge, verticle, motion, 15, seconds, back, tongue, rinse, mouth, water, swirl, mouth, remove, toothpaste, ...]   \n",
       "\n",
       "                                                                                                                                                                                                                                                                                                                                                                                                                                                                                                                                                                                                                                                                                                                                   STEMMING  \n",
       "0                                                                                                                                                                                                                                               [readi, wet, toothbrush, put, peasiz, amount, toothpast, start, brush, place, toothbrush, 45degre, angl, gum, gentl, circular, motion, brush, outer, surfac, teeth, make, reach, back, teeth, forget, insid, angl, toothbrush, vertic, brush, surfac, teeth, circular, motion, reach, back, clean, chew, surfac, chew, surfac, backandforth, motion, clean, surfac, chew, food, essenti, clean, finish, strong, brush, tongu, gentli, remov, bacteria, freshen, breath, rins, mouth, water]  \n",
       "1  [wet, toothbrush, water, appli, small, pea, size, amount, toothpast, center, brush, bristl, start, front, center, teeth, top, bottom, move, left, side, place, toothbrush, 45, degre, angl, gum, begin, brush, circular, motion, make, includ, gum, brush, gentli, bristl, hurt, brush, 10, second, move, backsid, teeth, start, back, front, teeth, move, left, side, insert, toothbrush, vertic, brush, circular, motion, make, includ, gum, brush, gentli, bristl, hurt, brush, 10, second, start, back, mouth, back, motion, brush, top, teeth, move, bottom, teeth, complet, repeat, top, teeth, brush, 5, second, brush, toung, verticl, motion, 15, second, back, tongu, rins, mouth, water, swirl, mouth, remov, toothpast, ...]  "
      ]
     },
     "execution_count": 5,
     "metadata": {},
     "output_type": "execute_result"
    }
   ],
   "source": [
    "ME = '''Wet the toothbrush with water and apply a small pea sized amount of toothpaste to the center of the brushes bristles.\n",
    "\n",
    "Starting with the front center teeth (top and bottom) and moving to the left and right side, place the toothbrush at a 45 degree angle to your gums and begin brushing in a circular motion. Make sure to include the gums and brush gently so the bristles do not hurt you or fan out. Brush for 10 seconds each.\n",
    "\n",
    "Move to the backside of the teeth, starting with the back of your front teeth and moving to both the left and right side, insert the toothbrush vertically and brush in a circular motion. Make sure to include the gums and brush gently so the bristles do not hurt you or fan out. Brush for 10 seconds each.\n",
    "\n",
    "Starting in the back of your mouth use a back and forth motion to brush the tops of your teeth. Move along your bottom teeth and once complete repeat for the top teeth. Brush for 5 seconds each.\n",
    "\n",
    "Brush your tounge using a verticle motion for 15 seconds. Be sure to get all the way to the back of your tongue.\n",
    "\n",
    "Rinse your mouth out with water and swirl around your mouth to remove the toothpaste. Rinse the toothbrush under the water. '''\n",
    "compare = pd.concat([compare, tf_idf.preprocess_text(ME)], \n",
    "                    ignore_index=True)\n",
    "compare"
   ]
  },
  {
   "cell_type": "code",
   "execution_count": 16,
   "id": "4b7f89e7-4272-472a-8f81-cbb5884207e7",
   "metadata": {},
   "outputs": [
    {
     "data": {
      "text/html": [
       "<div>\n",
       "<style scoped>\n",
       "    .dataframe tbody tr th:only-of-type {\n",
       "        vertical-align: middle;\n",
       "    }\n",
       "\n",
       "    .dataframe tbody tr th {\n",
       "        vertical-align: top;\n",
       "    }\n",
       "\n",
       "    .dataframe thead th {\n",
       "        text-align: right;\n",
       "    }\n",
       "</style>\n",
       "<table border=\"1\" class=\"dataframe\">\n",
       "  <thead>\n",
       "    <tr style=\"text-align: right;\">\n",
       "      <th></th>\n",
       "      <th>DOCUMENT</th>\n",
       "      <th>STEMMING</th>\n",
       "      <th>COSIM</th>\n",
       "    </tr>\n",
       "  </thead>\n",
       "  <tbody>\n",
       "    <tr>\n",
       "      <th>0</th>\n",
       "      <td>text from chatGPT</td>\n",
       "      <td>[text, chatgpt]</td>\n",
       "      <td>1.000000</td>\n",
       "    </tr>\n",
       "    <tr>\n",
       "      <th>1</th>\n",
       "      <td>my edited text</td>\n",
       "      <td>[edit, text]</td>\n",
       "      <td>0.336097</td>\n",
       "    </tr>\n",
       "  </tbody>\n",
       "</table>\n",
       "</div>"
      ],
      "text/plain": [
       "            DOCUMENT         STEMMING     COSIM\n",
       "0  text from chatGPT  [text, chatgpt]  1.000000\n",
       "1     my edited text     [edit, text]  0.336097"
      ]
     },
     "execution_count": 16,
     "metadata": {},
     "output_type": "execute_result"
    }
   ],
   "source": [
    "tf_idf.cosineSimilarity(compare)"
   ]
  },
  {
   "cell_type": "markdown",
   "id": "2b6870cd",
   "metadata": {},
   "source": [
    "## Document analysis\n",
    "\n",
    "- Make a list of all the improvements and changes you made to document\n",
    "- use the `tf_idf.cosineSimilarity` function to compare the AI version to your own\n",
    "\n",
    "Write a report on your intellectual property  in the 'revised document'. \n",
    "- How much can you claim as yours?\n",
    "- How many ideas came from AI?\n",
    "- How many ideas came from you?\n",
    "- Is this a _new_ document?\n",
    "- If this work was made by you and another person-not AI-would you need to credit this person as a coauthor?\n",
    "- What else can you discuss about this comparison and this process?\n",
    "\n",
    "The Cosine Similarity score was 33.6% suggesting that this document is mine with the included edits. Using this score it can be concluded that the text is measurably different from the original ChatGPT output. While ChatGPT did include some important ideas such as brushing at a 45% angle, I would say I included more significant ideas such as brushing gently, being sure to include the gums, and ensuring it took 2 minutes. I would argue that the text I created is a new document, as the original document still exists uneditted. I believe that if I had revised and added to another persons text (in place of the ChatGPT text) I would need to cite them as a reference. However, because they did not work with me, and I built upon their ideas I dont think I would credit them as a co-author. While the person provided me with initial knowledge, they had no control over my ideas and ultimatelty the outcome of my work. Therefore, they could not consent to my ideas or to being credited as an author."
   ]
  },
  {
   "cell_type": "code",
   "execution_count": null,
   "id": "1d6d74a1-a120-42a1-b2fb-73c69011c3de",
   "metadata": {},
   "outputs": [],
   "source": []
  }
 ],
 "metadata": {
  "jupytext": {
   "formats": "md:myst,ipynb"
  },
  "kernelspec": {
   "display_name": "Python 3 (ipykernel)",
   "language": "python",
   "name": "python3"
  },
  "language_info": {
   "codemirror_mode": {
    "name": "ipython",
    "version": 3
   },
   "file_extension": ".py",
   "mimetype": "text/x-python",
   "name": "python",
   "nbconvert_exporter": "python",
   "pygments_lexer": "ipython3",
   "version": "3.9.6"
  }
 },
 "nbformat": 4,
 "nbformat_minor": 5
}
