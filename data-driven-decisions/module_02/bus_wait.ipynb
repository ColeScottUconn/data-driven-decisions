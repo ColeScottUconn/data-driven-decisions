{
 "cells": [
  {
   "cell_type": "code",
   "execution_count": 3,
   "id": "875fa76c",
   "metadata": {},
   "outputs": [],
   "source": [
    "import numpy as np\n",
    "import matplotlib.pyplot as plt\n",
    "from numpy.random import default_rng\n",
    "plt.style.use('fivethirtyeight')"
   ]
  },
  {
   "cell_type": "markdown",
   "id": "3c259fb7",
   "metadata": {},
   "source": [
    "# Waiting for the bus\n",
    "\n",
    "When you are exploring a city, the public transportation is an awesome way to support civil infrastructure and reduce greenhouse gas emissions. One frustrating part about buses and trains is the act of waiting. When you look at the schedule, it may report that buses come every 60 min, so on average you should be waiting 30 minutes each time you arrive at a bus stop. **But** it feels like every time you get to the bus stop you are waiting on a late bus or you just missed the last one. Now, your wait time is more like 40-45 min on average. Is it just your bad luck? or is there something else happening here?"
   ]
  },
  {
   "cell_type": "code",
   "execution_count": 116,
   "id": "d7b241f3",
   "metadata": {},
   "outputs": [
    {
     "data": {
      "text/plain": [
       "array([   1.,    2.,    3.,    4.,    5.,    6.,    7.,    8.,    9.,\n",
       "         10.,   11.,   12.,   13.,   14.,   15.,   16.,   17.,   18.,\n",
       "         19.,   20.,   21.,   22.,   23.,   24.,   25.,   26.,   27.,\n",
       "         28.,   29.,   30.,   31.,   32.,   33.,   34.,   35.,   36.,\n",
       "         37.,   38.,   39.,   40.,   41.,   42.,   43.,   44.,   45.,\n",
       "         46.,   47.,   48.,   49.,   50.,   51.,   52.,   53.,   54.,\n",
       "         55.,   56.,   57.,   58.,   59.,   60.,   61.,   62.,   63.,\n",
       "         64.,   65.,   66.,   67.,   68.,   69.,   70.,   71.,   72.,\n",
       "         73.,   74.,   75.,   76.,   77.,   78.,   79.,   80.,   81.,\n",
       "         82.,   83.,   84.,   85.,   86.,   87.,   88.,   89.,   90.,\n",
       "         91.,   92.,   93.,   94.,   95.,   96.,   97.,   98.,   99.,\n",
       "        100.,  101.,  102.,  103.,  104.,  105.,  106.,  107.,  108.,\n",
       "        109.,  110.,  111.,  112.,  113.,  114.,  115.,  116.,  117.,\n",
       "        118.,  119.,  120.,  121.,  122.,  123.,  124.,  125.,  126.,\n",
       "        127.,  128.,  129.,  130.,  131.,  132.,  133.,  134.,  135.,\n",
       "        136.,  137.,  138.,  139.,  140.,  141.,  142.,  143.,  144.,\n",
       "        145.,  146.,  147.,  148.,  149.,  150.,  151.,  152.,  153.,\n",
       "        154.,  155.,  156.,  157.,  158.,  159.,  160.,  161.,  162.,\n",
       "        163.,  164.,  165.,  166.,  167.,  168.,  169.,  170.,  171.,\n",
       "        172.,  173.,  174.,  175.,  176.,  177.,  178.,  179.,  180.,\n",
       "        181.,  182.,  183.,  184.,  185.,  186.,  187.,  188.,  189.,\n",
       "        190.,  191.,  192.,  193.,  194.,  195.,  196.,  197.,  198.,\n",
       "        199.,  200.,  201.,  202.,  203.,  204.,  205.,  206.,  207.,\n",
       "        208.,  209.,  210.,  211.,  212.,  213.,  214.,  215.,  216.,\n",
       "        217.,  218.,  219.,  220.,  221.,  222.,  223.,  224.,  225.,\n",
       "        226.,  227.,  228.,  229.,  230.,  231.,  232.,  233.,  234.,\n",
       "        235.,  236.,  237.,  238.,  239.,  240.,  241.,  242.,  243.,\n",
       "        244.,  245.,  246.,  247.,  248.,  249.,  250.,  251.,  252.,\n",
       "        253.,  254.,  255.,  256.,  257.,  258.,  259.,  260.,  261.,\n",
       "        262.,  263.,  264.,  265.,  266.,  267.,  268.,  269.,  270.,\n",
       "        271.,  272.,  273.,  274.,  275.,  276.,  277.,  278.,  279.,\n",
       "        280.,  281.,  282.,  283.,  284.,  285.,  286.,  287.,  288.,\n",
       "        289.,  290.,  291.,  292.,  293.,  294.,  295.,  296.,  297.,\n",
       "        298.,  299.,  300.,  301.,  302.,  303.,  304.,  305.,  306.,\n",
       "        307.,  308.,  309.,  310.,  311.,  312.,  313.,  314.,  315.,\n",
       "        316.,  317.,  318.,  319.,  320.,  321.,  322.,  323.,  324.,\n",
       "        325.,  326.,  327.,  328.,  329.,  330.,  331.,  332.,  333.,\n",
       "        334.,  335.,  336.,  337.,  338.,  339.,  340.,  341.,  342.,\n",
       "        343.,  344.,  345.,  346.,  347.,  348.,  349.,  350.,  351.,\n",
       "        352.,  353.,  354.,  355.,  356.,  357.,  358.,  359.,  360.,\n",
       "        361.,  362.,  363.,  364.,  365.,  366.,  367.,  368.,  369.,\n",
       "        370.,  371.,  372.,  373.,  374.,  375.,  376.,  377.,  378.,\n",
       "        379.,  380.,  381.,  382.,  383.,  384.,  385.,  386.,  387.,\n",
       "        388.,  389.,  390.,  391.,  392.,  393.,  394.,  395.,  396.,\n",
       "        397.,  398.,  399.,  400.,  401.,  402.,  403.,  404.,  405.,\n",
       "        406.,  407.,  408.,  409.,  410.,  411.,  412.,  413.,  414.,\n",
       "        415.,  416.,  417.,  418.,  419.,  420.,  421.,  422.,  423.,\n",
       "        424.,  425.,  426.,  427.,  428.,  429.,  430.,  431.,  432.,\n",
       "        433.,  434.,  435.,  436.,  437.,  438.,  439.,  440.,  441.,\n",
       "        442.,  443.,  444.,  445.,  446.,  447.,  448.,  449.,  450.,\n",
       "        451.,  452.,  453.,  454.,  455.,  456.,  457.,  458.,  459.,\n",
       "        460.,  461.,  462.,  463.,  464.,  465.,  466.,  467.,  468.,\n",
       "        469.,  470.,  471.,  472.,  473.,  474.,  475.,  476.,  477.,\n",
       "        478.,  479.,  480.,  481.,  482.,  483.,  484.,  485.,  486.,\n",
       "        487.,  488.,  489.,  490.,  491.,  492.,  493.,  494.,  495.,\n",
       "        496.,  497.,  498.,  499.,  500.,  501.,  502.,  503.,  504.,\n",
       "        505.,  506.,  507.,  508.,  509.,  510.,  511.,  512.,  513.,\n",
       "        514.,  515.,  516.,  517.,  518.,  519.,  520.,  521.,  522.,\n",
       "        523.,  524.,  525.,  526.,  527.,  528.,  529.,  530.,  531.,\n",
       "        532.,  533.,  534.,  535.,  536.,  537.,  538.,  539.,  540.,\n",
       "        541.,  542.,  543.,  544.,  545.,  546.,  547.,  548.,  549.,\n",
       "        550.,  551.,  552.,  553.,  554.,  555.,  556.,  557.,  558.,\n",
       "        559.,  560.,  561.,  562.,  563.,  564.,  565.,  566.,  567.,\n",
       "        568.,  569.,  570.,  571.,  572.,  573.,  574.,  575.,  576.,\n",
       "        577.,  578.,  579.,  580.,  581.,  582.,  583.,  584.,  585.,\n",
       "        586.,  587.,  588.,  589.,  590.,  591.,  592.,  593.,  594.,\n",
       "        595.,  596.,  597.,  598.,  599.,  600.,  601.,  602.,  603.,\n",
       "        604.,  605.,  606.,  607.,  608.,  609.,  610.,  611.,  612.,\n",
       "        613.,  614.,  615.,  616.,  617.,  618.,  619.,  620.,  621.,\n",
       "        622.,  623.,  624.,  625.,  626.,  627.,  628.,  629.,  630.,\n",
       "        631.,  632.,  633.,  634.,  635.,  636.,  637.,  638.,  639.,\n",
       "        640.,  641.,  642.,  643.,  644.,  645.,  646.,  647.,  648.,\n",
       "        649.,  650.,  651.,  652.,  653.,  654.,  655.,  656.,  657.,\n",
       "        658.,  659.,  660.,  661.,  662.,  663.,  664.,  665.,  666.,\n",
       "        667.,  668.,  669.,  670.,  671.,  672.,  673.,  674.,  675.,\n",
       "        676.,  677.,  678.,  679.,  680.,  681.,  682.,  683.,  684.,\n",
       "        685.,  686.,  687.,  688.,  689.,  690.,  691.,  692.,  693.,\n",
       "        694.,  695.,  696.,  697.,  698.,  699.,  700.,  701.,  702.,\n",
       "        703.,  704.,  705.,  706.,  707.,  708.,  709.,  710.,  711.,\n",
       "        712.,  713.,  714.,  715.,  716.,  717.,  718.,  719.,  720.,\n",
       "        721.,  722.,  723.,  724.,  725.,  726.,  727.,  728.,  729.,\n",
       "        730.,  731.,  732.,  733.,  734.,  735.,  736.,  737.,  738.,\n",
       "        739.,  740.,  741.,  742.,  743.,  744.,  745.,  746.,  747.,\n",
       "        748.,  749.,  750.,  751.,  752.,  753.,  754.,  755.,  756.,\n",
       "        757.,  758.,  759.,  760.,  761.,  762.,  763.,  764.,  765.,\n",
       "        766.,  767.,  768.,  769.,  770.,  771.,  772.,  773.,  774.,\n",
       "        775.,  776.,  777.,  778.,  779.,  780.,  781.,  782.,  783.,\n",
       "        784.,  785.,  786.,  787.,  788.,  789.,  790.,  791.,  792.,\n",
       "        793.,  794.,  795.,  796.,  797.,  798.,  799.,  800.,  801.,\n",
       "        802.,  803.,  804.,  805.,  806.,  807.,  808.,  809.,  810.,\n",
       "        811.,  812.,  813.,  814.,  815.,  816.,  817.,  818.,  819.,\n",
       "        820.,  821.,  822.,  823.,  824.,  825.,  826.,  827.,  828.,\n",
       "        829.,  830.,  831.,  832.,  833.,  834.,  835.,  836.,  837.,\n",
       "        838.,  839.,  840.,  841.,  842.,  843.,  844.,  845.,  846.,\n",
       "        847.,  848.,  849.,  850.,  851.,  852.,  853.,  854.,  855.,\n",
       "        856.,  857.,  858.,  859.,  860.,  861.,  862.,  863.,  864.,\n",
       "        865.,  866.,  867.,  868.,  869.,  870.,  871.,  872.,  873.,\n",
       "        874.,  875.,  876.,  877.,  878.,  879.,  880.,  881.,  882.,\n",
       "        883.,  884.,  885.,  886.,  887.,  888.,  889.,  890.,  891.,\n",
       "        892.,  893.,  894.,  895.,  896.,  897.,  898.,  899.,  900.,\n",
       "        901.,  902.,  903.,  904.,  905.,  906.,  907.,  908.,  909.,\n",
       "        910.,  911.,  912.,  913.,  914.,  915.,  916.,  917.,  918.,\n",
       "        919.,  920.,  921.,  922.,  923.,  924.,  925.,  926.,  927.,\n",
       "        928.,  929.,  930.,  931.,  932.,  933.,  934.,  935.,  936.,\n",
       "        937.,  938.,  939.,  940.,  941.,  942.,  943.,  944.,  945.,\n",
       "        946.,  947.,  948.,  949.,  950.,  951.,  952.,  953.,  954.,\n",
       "        955.,  956.,  957.,  958.,  959.,  960.,  961.,  962.,  963.,\n",
       "        964.,  965.,  966.,  967.,  968.,  969.,  970.,  971.,  972.,\n",
       "        973.,  974.,  975.,  976.,  977.,  978.,  979.,  980.,  981.,\n",
       "        982.,  983.,  984.,  985.,  986.,  987.,  988.,  989.,  990.,\n",
       "        991.,  992.,  993.,  994.,  995.,  996.,  997.,  998.,  999.,\n",
       "       1000.])"
      ]
     },
     "execution_count": 116,
     "metadata": {},
     "output_type": "execute_result"
    }
   ],
   "source": [
    "rng = default_rng(42)\n",
    "\n",
    "N_trials = 1\n",
    "\n",
    "N_buses = 1000\n",
    "\n",
    "bus_arrival = np.array([float(i) for i in range(1,N_buses+1)])\n",
    "bus_arrival"
   ]
  },
  {
   "cell_type": "code",
   "execution_count": 117,
   "id": "52e6b1c1",
   "metadata": {},
   "outputs": [],
   "source": [
    "bus_arrival += rng.normal(loc = 0, scale = 1/6, size = N_buses)"
   ]
  },
  {
   "cell_type": "code",
   "execution_count": 118,
   "id": "257ed140",
   "metadata": {},
   "outputs": [
    {
     "data": {
      "text/plain": [
       "0.22272842944629534"
      ]
     },
     "execution_count": 118,
     "metadata": {},
     "output_type": "execute_result"
    }
   ],
   "source": [
    "np.std(np.diff(bus_arrival))"
   ]
  },
  {
   "cell_type": "code",
   "execution_count": 123,
   "id": "99650fb4",
   "metadata": {},
   "outputs": [
    {
     "data": {
      "text/plain": [
       "0.23570226039551584"
      ]
     },
     "execution_count": 123,
     "metadata": {},
     "output_type": "execute_result"
    }
   ],
   "source": [
    "np.sqrt(2/36)"
   ]
  },
  {
   "cell_type": "markdown",
   "id": "dbfbf265",
   "metadata": {},
   "source": [
    "> _Note:_ Propagation of error is $"
   ]
  },
  {
   "cell_type": "code",
   "execution_count": 120,
   "id": "86a044c0",
   "metadata": {},
   "outputs": [],
   "source": [
    "from scipy.stats import norm"
   ]
  },
  {
   "cell_type": "code",
   "execution_count": 122,
   "id": "288ebf3b",
   "metadata": {},
   "outputs": [
    {
     "data": {
      "image/png": "[encoded data removed]",
      "text/plain": [
       "<Figure size 432x288 with 1 Axes>"
      ]
     },
     "metadata": {},
     "output_type": "display_data"
    }
   ],
   "source": [
    "\n",
    "for i in range(1, 12, 2):\n",
    "    x = np.linspace(0, 2)\n",
    "    plt.hist(np.diff(bus_arrival),x, density = True)\n",
    "    plt.plot(x, norm(1, 0.2227).pdf(x))"
   ]
  },
  {
   "cell_type": "code",
   "execution_count": 75,
   "id": "2919f0a3",
   "metadata": {},
   "outputs": [
    {
     "data": {
      "text/plain": [
       "(12, 10)"
      ]
     },
     "execution_count": 75,
     "metadata": {},
     "output_type": "execute_result"
    }
   ],
   "source": [
    "num_people = 10\n",
    "people_arrival = rng.random((N_trials, N_buses, num_people))*12 - 1\n",
    "\n",
    "people_arrival[0, :, :].shape"
   ]
  },
  {
   "cell_type": "code",
   "execution_count": 70,
   "id": "d5478669",
   "metadata": {},
   "outputs": [
    {
     "data": {
      "text/plain": [
       "88"
      ]
     },
     "execution_count": 70,
     "metadata": {},
     "output_type": "execute_result"
    }
   ],
   "source": [
    "np.mean(people_arrival[people_arrival< 0]*60)\n",
    "np.size(people_arrival[people_arrival< 0])"
   ]
  },
  {
   "cell_type": "code",
   "execution_count": 76,
   "id": "6c922bd6",
   "metadata": {},
   "outputs": [
    {
     "ename": "ValueError",
     "evalue": "operands could not be broadcast together with shapes (100,12,10) (12,) ",
     "output_type": "error",
     "traceback": [
      "\u001b[0;31m---------------------------------------------------------------------------\u001b[0m",
      "\u001b[0;31mValueError\u001b[0m                                Traceback (most recent call last)",
      "\u001b[0;32m<ipython-input-76-e3f3facb887d>\u001b[0m in \u001b[0;36m<module>\u001b[0;34m\u001b[0m\n\u001b[1;32m      2\u001b[0m     people_on_bus = np.size(people_arrival[\n\u001b[1;32m      3\u001b[0m         np.logical_and(people_arrival>bus_time,\n\u001b[0;32m----> 4\u001b[0;31m                        people_arrival<bus_arrival[i+1])])\n\u001b[0m\u001b[1;32m      5\u001b[0m     time_wait = np.mean(people_arrival[np.logical_and(people_arrival>bus_time, \n\u001b[1;32m      6\u001b[0m                                           people_arrival<bus_arrival[i+1])] - bus_time)*60 \n",
      "\u001b[0;31mValueError\u001b[0m: operands could not be broadcast together with shapes (100,12,10) (12,) "
     ]
    }
   ],
   "source": [
    "for i, bus_time in enumerate(bus_arrival[0,:]):\n",
    "    people_on_bus = np.size(people_arrival[\n",
    "        np.logical_and(people_arrival>bus_time,\n",
    "                       people_arrival<bus_arrival[i+1])])\n",
    "    time_wait = np.mean(people_arrival[np.logical_and(people_arrival>bus_time, \n",
    "                                          people_arrival<bus_arrival[i+1])] - bus_time)*60 \n",
    "    print('bus {} had {} that waited avg {} min'.format(i, people_on_bus, time_wait))"
   ]
  },
  {
   "cell_type": "markdown",
   "id": "55e685d5",
   "metadata": {},
   "source": [
    "Allen Downey calls this the [Inspection Paradox](https://allendowney.blogspot.com/2015/08/the-inspection-paradox-is-everywhere.html). "
   ]
  },
  {
   "cell_type": "code",
   "execution_count": 26,
   "id": "b06bfc88",
   "metadata": {},
   "outputs": [
    {
     "data": {
      "text/plain": [
       "1037"
      ]
     },
     "execution_count": 26,
     "metadata": {},
     "output_type": "execute_result"
    }
   ],
   "source": [
    "np.size(people_arrival[np.logical_and(people_arrival>1, people_arrival< 2)]*60)"
   ]
  },
  {
   "cell_type": "code",
   "execution_count": 27,
   "id": "a0ff82bc",
   "metadata": {},
   "outputs": [
    {
     "data": {
      "text/plain": [
       "995"
      ]
     },
     "execution_count": 27,
     "metadata": {},
     "output_type": "execute_result"
    }
   ],
   "source": [
    "np.size(people_arrival[np.logical_and(people_arrival>2, people_arrival< 3)]*60)"
   ]
  },
  {
   "cell_type": "code",
   "execution_count": 28,
   "id": "e1218480",
   "metadata": {},
   "outputs": [
    {
     "data": {
      "text/plain": [
       "1012"
      ]
     },
     "execution_count": 28,
     "metadata": {},
     "output_type": "execute_result"
    }
   ],
   "source": [
    "np.size(people_arrival[np.logical_and(people_arrival>3, people_arrival< 4)]*60)"
   ]
  },
  {
   "cell_type": "code",
   "execution_count": 28,
   "id": "9f4b9204",
   "metadata": {},
   "outputs": [
    {
     "data": {
      "text/plain": [
       "1012"
      ]
     },
     "execution_count": 28,
     "metadata": {},
     "output_type": "execute_result"
    }
   ],
   "source": [
    "np.size(people_arrival[np.logical_and(people_arrival>3, people_arrival< 4)]*60)"
   ]
  },
  {
   "cell_type": "code",
   "execution_count": null,
   "id": "5b218d02",
   "metadata": {},
   "outputs": [],
   "source": []
  }
 ],
 "metadata": {
  "kernelspec": {
   "display_name": "Python 3",
   "language": "python",
   "name": "python3"
  },
  "language_info": {
   "codemirror_mode": {
    "name": "ipython",
    "version": 3
   },
   "file_extension": ".py",
   "mimetype": "text/x-python",
   "name": "python",
   "nbconvert_exporter": "python",
   "pygments_lexer": "ipython3",
   "version": "3.9.0"
  }
 },
 "nbformat": 4,
 "nbformat_minor": 5
}
